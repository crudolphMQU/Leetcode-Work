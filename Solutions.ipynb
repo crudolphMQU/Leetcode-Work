{
 "cells": [
  {
   "cell_type": "markdown",
   "id": "a43ba856",
   "metadata": {
    "heading_collapsed": true
   },
   "source": [
    "# Problem 1: Two sum"
   ]
  },
  {
   "cell_type": "markdown",
   "id": "842cc587",
   "metadata": {
    "heading_collapsed": true,
    "hidden": true
   },
   "source": [
    "## Solution explanation"
   ]
  },
  {
   "cell_type": "raw",
   "id": "3d36b211",
   "metadata": {
    "hidden": true
   },
   "source": [
    "def twoSum(self, nums: List[int], target: int) -> List[int]: "
   ]
  },
  {
   "cell_type": "code",
   "execution_count": 1,
   "id": "e543fc05",
   "metadata": {
    "hidden": true
   },
   "outputs": [],
   "source": [
    "def twoSum(nums, target: int):\n",
    "    seen = {} # dictionary\n",
    "\n",
    "    for i in range(len(nums)): # definition of twoSum states nums is a list of ints. So we're interating through \n",
    "        # all the ints. \n",
    "        print(i)\n",
    "        diff = target - nums[i] # the difference between the target and each of the ints in the nums list. \n",
    "        if diff in seen: \n",
    "            return [seen[diff], i] \n",
    "        else:\n",
    "            seen[nums[i]] = i # sets a key as the num to have the value of it's index in the array. "
   ]
  },
  {
   "cell_type": "code",
   "execution_count": 2,
   "id": "58f07f96",
   "metadata": {
    "hidden": true
   },
   "outputs": [],
   "source": [
    "nums = [2,7,11,15]\n",
    "target = 9"
   ]
  },
  {
   "cell_type": "code",
   "execution_count": 3,
   "id": "4a365460",
   "metadata": {
    "hidden": true
   },
   "outputs": [
    {
     "name": "stdout",
     "output_type": "stream",
     "text": [
      "0\n",
      "1\n"
     ]
    },
    {
     "data": {
      "text/plain": [
       "[0, 1]"
      ]
     },
     "execution_count": 3,
     "metadata": {},
     "output_type": "execute_result"
    }
   ],
   "source": [
    "twoSum(nums, target)"
   ]
  },
  {
   "cell_type": "code",
   "execution_count": 4,
   "id": "3cac1ab0",
   "metadata": {
    "hidden": true
   },
   "outputs": [],
   "source": [
    "test = {} # empty dict"
   ]
  },
  {
   "cell_type": "code",
   "execution_count": 5,
   "id": "a35e5301",
   "metadata": {
    "hidden": true
   },
   "outputs": [
    {
     "data": {
      "text/plain": [
       "7"
      ]
     },
     "execution_count": 5,
     "metadata": {},
     "output_type": "execute_result"
    }
   ],
   "source": [
    "target - 2 # difference between target and first value in array."
   ]
  },
  {
   "cell_type": "code",
   "execution_count": 6,
   "id": "4b9a1001",
   "metadata": {
    "hidden": true
   },
   "outputs": [],
   "source": [
    "test[2] = 0 # difference does not exist in the dict, so populate the dict with the key as the \n",
    "            # number from the array and the key's value as the index. "
   ]
  },
  {
   "cell_type": "code",
   "execution_count": 7,
   "id": "021ca9e5",
   "metadata": {
    "hidden": true
   },
   "outputs": [
    {
     "data": {
      "text/plain": [
       "{2: 0}"
      ]
     },
     "execution_count": 7,
     "metadata": {},
     "output_type": "execute_result"
    }
   ],
   "source": [
    "test # show the updated key. "
   ]
  },
  {
   "cell_type": "code",
   "execution_count": 8,
   "id": "75e68f1d",
   "metadata": {
    "hidden": true
   },
   "outputs": [
    {
     "data": {
      "text/plain": [
       "2"
      ]
     },
     "execution_count": 8,
     "metadata": {},
     "output_type": "execute_result"
    }
   ],
   "source": [
    "target - 7 # next difference between the target the and second element in the number array. "
   ]
  },
  {
   "cell_type": "code",
   "execution_count": 9,
   "id": "547f0a59",
   "metadata": {
    "hidden": true
   },
   "outputs": [
    {
     "data": {
      "text/plain": [
       "True"
      ]
     },
     "execution_count": 9,
     "metadata": {},
     "output_type": "execute_result"
    }
   ],
   "source": [
    "2 in test # this difference exists in the dictionary as a key. "
   ]
  },
  {
   "cell_type": "code",
   "execution_count": 10,
   "id": "c84ceb2a",
   "metadata": {
    "hidden": true
   },
   "outputs": [
    {
     "name": "stdout",
     "output_type": "stream",
     "text": [
      "0\n",
      "1\n"
     ]
    }
   ],
   "source": [
    "print(test[2])\n",
    "print(1)"
   ]
  },
  {
   "cell_type": "code",
   "execution_count": 11,
   "id": "580cc68f",
   "metadata": {
    "hidden": true
   },
   "outputs": [],
   "source": [
    "nums = [3,2,4]\n",
    "target = 6"
   ]
  },
  {
   "cell_type": "code",
   "execution_count": 12,
   "id": "399f4b39",
   "metadata": {
    "hidden": true
   },
   "outputs": [
    {
     "name": "stdout",
     "output_type": "stream",
     "text": [
      "0\n",
      "1\n",
      "2\n"
     ]
    },
    {
     "data": {
      "text/plain": [
       "[1, 2]"
      ]
     },
     "execution_count": 12,
     "metadata": {},
     "output_type": "execute_result"
    }
   ],
   "source": [
    "twoSum(nums, target)"
   ]
  },
  {
   "cell_type": "code",
   "execution_count": 13,
   "id": "7340655f",
   "metadata": {
    "hidden": true
   },
   "outputs": [],
   "source": [
    "test2 = {}"
   ]
  },
  {
   "cell_type": "code",
   "execution_count": 14,
   "id": "aaa5d1c1",
   "metadata": {
    "hidden": true
   },
   "outputs": [
    {
     "data": {
      "text/plain": [
       "3"
      ]
     },
     "execution_count": 14,
     "metadata": {},
     "output_type": "execute_result"
    }
   ],
   "source": [
    "target - 3"
   ]
  },
  {
   "cell_type": "code",
   "execution_count": 15,
   "id": "8806a156",
   "metadata": {
    "hidden": true
   },
   "outputs": [],
   "source": [
    "test2[3] = 0"
   ]
  },
  {
   "cell_type": "code",
   "execution_count": 16,
   "id": "c88885d6",
   "metadata": {
    "hidden": true
   },
   "outputs": [
    {
     "data": {
      "text/plain": [
       "{3: 0}"
      ]
     },
     "execution_count": 16,
     "metadata": {},
     "output_type": "execute_result"
    }
   ],
   "source": [
    "test2"
   ]
  },
  {
   "cell_type": "code",
   "execution_count": 17,
   "id": "e98a13fc",
   "metadata": {
    "hidden": true
   },
   "outputs": [
    {
     "data": {
      "text/plain": [
       "4"
      ]
     },
     "execution_count": 17,
     "metadata": {},
     "output_type": "execute_result"
    }
   ],
   "source": [
    "target - 2"
   ]
  },
  {
   "cell_type": "code",
   "execution_count": 18,
   "id": "53ae0b92",
   "metadata": {
    "hidden": true
   },
   "outputs": [],
   "source": [
    "test2[2] = 1"
   ]
  },
  {
   "cell_type": "code",
   "execution_count": 19,
   "id": "6c7783d7",
   "metadata": {
    "hidden": true
   },
   "outputs": [
    {
     "data": {
      "text/plain": [
       "False"
      ]
     },
     "execution_count": 19,
     "metadata": {},
     "output_type": "execute_result"
    }
   ],
   "source": [
    "4 in test2"
   ]
  },
  {
   "cell_type": "code",
   "execution_count": 20,
   "id": "afee7bf8",
   "metadata": {
    "hidden": true
   },
   "outputs": [
    {
     "data": {
      "text/plain": [
       "2"
      ]
     },
     "execution_count": 20,
     "metadata": {},
     "output_type": "execute_result"
    }
   ],
   "source": [
    "target - 4"
   ]
  },
  {
   "cell_type": "code",
   "execution_count": 21,
   "id": "e5306317",
   "metadata": {
    "hidden": true
   },
   "outputs": [
    {
     "data": {
      "text/plain": [
       "True"
      ]
     },
     "execution_count": 21,
     "metadata": {},
     "output_type": "execute_result"
    }
   ],
   "source": [
    "2 in test2"
   ]
  },
  {
   "cell_type": "code",
   "execution_count": 22,
   "id": "91758b44",
   "metadata": {
    "hidden": true
   },
   "outputs": [
    {
     "data": {
      "text/plain": [
       "{3: 0, 2: 1}"
      ]
     },
     "execution_count": 22,
     "metadata": {},
     "output_type": "execute_result"
    }
   ],
   "source": [
    "test2"
   ]
  },
  {
   "cell_type": "code",
   "execution_count": 23,
   "id": "e00f5831",
   "metadata": {
    "hidden": true
   },
   "outputs": [
    {
     "data": {
      "text/plain": [
       "1"
      ]
     },
     "execution_count": 23,
     "metadata": {},
     "output_type": "execute_result"
    }
   ],
   "source": [
    "test2[2]"
   ]
  },
  {
   "cell_type": "markdown",
   "id": "15376bbc",
   "metadata": {
    "hidden": true
   },
   "source": [
    "## My attempt"
   ]
  },
  {
   "cell_type": "markdown",
   "id": "282891fa",
   "metadata": {
    "hidden": true
   },
   "source": [
    "Mostly taken from the above solution. Point of it is to populate a dictionary such that when the keys of the dict equal the target value, we grab the values of the keys in the dict which are the index of the number values. "
   ]
  },
  {
   "cell_type": "code",
   "execution_count": 24,
   "id": "9c3909e7",
   "metadata": {
    "hidden": true
   },
   "outputs": [],
   "source": [
    "def twoSum(nums, target):\n",
    "    seen = {}\n",
    "    for i, numVal in enumerate(nums):\n",
    "        diff = target - numVal\n",
    "        if diff in seen:\n",
    "            return [seen[diff], i]\n",
    "        else: \n",
    "            seen[numVal] = i"
   ]
  },
  {
   "cell_type": "code",
   "execution_count": 25,
   "id": "7d5a1c07",
   "metadata": {
    "hidden": true
   },
   "outputs": [],
   "source": [
    "nums = [3,2,4]\n",
    "target = 6"
   ]
  },
  {
   "cell_type": "code",
   "execution_count": 26,
   "id": "ab6101c7",
   "metadata": {
    "hidden": true
   },
   "outputs": [
    {
     "data": {
      "text/plain": [
       "[1, 2]"
      ]
     },
     "execution_count": 26,
     "metadata": {},
     "output_type": "execute_result"
    }
   ],
   "source": [
    "twoSum(nums, target)"
   ]
  },
  {
   "cell_type": "markdown",
   "id": "dac42db7",
   "metadata": {
    "heading_collapsed": true
   },
   "source": [
    "# Problem 9: Palindrome Number"
   ]
  },
  {
   "cell_type": "markdown",
   "id": "1ea3ae9d",
   "metadata": {
    "hidden": true
   },
   "source": [
    "A palindrome number is the same value when read forwards and backwards, i.e. 121. "
   ]
  },
  {
   "cell_type": "markdown",
   "id": "a14280cf",
   "metadata": {
    "hidden": true
   },
   "source": [
    "Using the function`divmod`, takes two numbers as arguments and returns their quotient and remainder in a tuple. \n",
    "\n",
    "If we have one of the arguments as base 10, we can use log rules. "
   ]
  },
  {
   "cell_type": "markdown",
   "id": "013c7f83",
   "metadata": {
    "hidden": true
   },
   "source": [
    "[help from here](https://stackoverflow.com/questions/1906717/how-to-split-an-integer-into-a-list-of-digits)"
   ]
  },
  {
   "cell_type": "code",
   "execution_count": 27,
   "id": "20b9f151",
   "metadata": {
    "hidden": true
   },
   "outputs": [],
   "source": [
    "n = 900\n",
    "base = 10\n",
    "n,d = divmod(n, base)"
   ]
  },
  {
   "cell_type": "code",
   "execution_count": 28,
   "id": "b2a959cd",
   "metadata": {
    "hidden": true
   },
   "outputs": [
    {
     "data": {
      "text/plain": [
       "90"
      ]
     },
     "execution_count": 28,
     "metadata": {},
     "output_type": "execute_result"
    }
   ],
   "source": [
    "n"
   ]
  },
  {
   "cell_type": "code",
   "execution_count": 29,
   "id": "2ae6e064",
   "metadata": {
    "hidden": true
   },
   "outputs": [
    {
     "data": {
      "text/plain": [
       "0"
      ]
     },
     "execution_count": 29,
     "metadata": {},
     "output_type": "execute_result"
    }
   ],
   "source": [
    "d"
   ]
  },
  {
   "cell_type": "code",
   "execution_count": 30,
   "id": "ef9a4b35",
   "metadata": {
    "hidden": true
   },
   "outputs": [],
   "source": [
    "n,d = divmod(n, base)"
   ]
  },
  {
   "cell_type": "code",
   "execution_count": 31,
   "id": "8ea283ad",
   "metadata": {
    "hidden": true
   },
   "outputs": [
    {
     "data": {
      "text/plain": [
       "9"
      ]
     },
     "execution_count": 31,
     "metadata": {},
     "output_type": "execute_result"
    }
   ],
   "source": [
    "n"
   ]
  },
  {
   "cell_type": "code",
   "execution_count": 32,
   "id": "7d9b40e6",
   "metadata": {
    "hidden": true
   },
   "outputs": [
    {
     "data": {
      "text/plain": [
       "0"
      ]
     },
     "execution_count": 32,
     "metadata": {},
     "output_type": "execute_result"
    }
   ],
   "source": [
    "d"
   ]
  },
  {
   "cell_type": "code",
   "execution_count": 33,
   "id": "bdb17e62",
   "metadata": {
    "hidden": true
   },
   "outputs": [],
   "source": [
    "def digitize(n, base=10):\n",
    "    if n == 0:\n",
    "        yield 0\n",
    "    while n:\n",
    "        n, d = divmod(n, base)\n",
    "        yield d "
   ]
  },
  {
   "cell_type": "code",
   "execution_count": 34,
   "id": "2b7de36c",
   "metadata": {
    "hidden": true
   },
   "outputs": [
    {
     "data": {
      "text/plain": [
       "(0, 0, 9)"
      ]
     },
     "execution_count": 34,
     "metadata": {},
     "output_type": "execute_result"
    }
   ],
   "source": [
    "tuple(digitize(900))"
   ]
  },
  {
   "cell_type": "code",
   "execution_count": 35,
   "id": "67a1cc2c",
   "metadata": {
    "hidden": true
   },
   "outputs": [
    {
     "data": {
      "text/plain": [
       "(9, 0, 0)"
      ]
     },
     "execution_count": 35,
     "metadata": {},
     "output_type": "execute_result"
    }
   ],
   "source": [
    "tuple(reversed(tuple(digitize(900))))"
   ]
  },
  {
   "cell_type": "code",
   "execution_count": 36,
   "id": "7c25ec27",
   "metadata": {
    "hidden": true
   },
   "outputs": [
    {
     "data": {
      "text/plain": [
       "False"
      ]
     },
     "execution_count": 36,
     "metadata": {},
     "output_type": "execute_result"
    }
   ],
   "source": [
    "tuple(reversed(tuple(digitize(900)))) == tuple(digitize(900))"
   ]
  },
  {
   "cell_type": "code",
   "execution_count": 37,
   "id": "eca47ab9",
   "metadata": {
    "hidden": true
   },
   "outputs": [
    {
     "data": {
      "text/plain": [
       "True"
      ]
     },
     "execution_count": 37,
     "metadata": {},
     "output_type": "execute_result"
    }
   ],
   "source": [
    "tuple(reversed(tuple(digitize(121)))) == tuple(digitize(121))"
   ]
  },
  {
   "cell_type": "code",
   "execution_count": 38,
   "id": "03be2694",
   "metadata": {
    "hidden": true
   },
   "outputs": [],
   "source": [
    "def isPalindrome(x: int) -> bool:\n",
    "    def digitize(x, base=10):\n",
    "        if x == 0:\n",
    "            yield 0\n",
    "        while x:\n",
    "            x, d = divmod(x, base)\n",
    "            yield d \n",
    "    if tuple(reversed(tuple(digitize(x)))) == tuple(digitize(x)):\n",
    "        return True\n",
    "    else:\n",
    "        return False"
   ]
  },
  {
   "cell_type": "code",
   "execution_count": 39,
   "id": "3249297d",
   "metadata": {
    "hidden": true
   },
   "outputs": [
    {
     "data": {
      "text/plain": [
       "False"
      ]
     },
     "execution_count": 39,
     "metadata": {},
     "output_type": "execute_result"
    }
   ],
   "source": [
    "isPalindrome(900)"
   ]
  },
  {
   "cell_type": "code",
   "execution_count": 40,
   "id": "892943d4",
   "metadata": {
    "hidden": true
   },
   "outputs": [
    {
     "data": {
      "text/plain": [
       "True"
      ]
     },
     "execution_count": 40,
     "metadata": {},
     "output_type": "execute_result"
    }
   ],
   "source": [
    "isPalindrome(121)"
   ]
  },
  {
   "cell_type": "markdown",
   "id": "63e4befe",
   "metadata": {
    "hidden": true
   },
   "source": [
    "## Negative Numbers"
   ]
  },
  {
   "cell_type": "code",
   "execution_count": 41,
   "id": "ad88528d",
   "metadata": {
    "hidden": true
   },
   "outputs": [],
   "source": [
    "def isPalindrome(x: int) -> bool:\n",
    "    if x < 0:\n",
    "        return False\n",
    "    def digitize(x, base=10):\n",
    "        if x == 0:\n",
    "            yield 0\n",
    "        while x:\n",
    "            x, d = divmod(x, base)\n",
    "            yield d \n",
    "    if tuple(reversed(tuple(digitize(x)))) == tuple(digitize(x)):\n",
    "        return True"
   ]
  },
  {
   "cell_type": "code",
   "execution_count": 42,
   "id": "adcfb156",
   "metadata": {
    "hidden": true
   },
   "outputs": [
    {
     "data": {
      "text/plain": [
       "True"
      ]
     },
     "execution_count": 42,
     "metadata": {},
     "output_type": "execute_result"
    }
   ],
   "source": [
    "isPalindrome(121)"
   ]
  },
  {
   "cell_type": "code",
   "execution_count": 43,
   "id": "fb916662",
   "metadata": {
    "hidden": true
   },
   "outputs": [
    {
     "data": {
      "text/plain": [
       "False"
      ]
     },
     "execution_count": 43,
     "metadata": {},
     "output_type": "execute_result"
    }
   ],
   "source": [
    "isPalindrome(-121)"
   ]
  },
  {
   "cell_type": "code",
   "execution_count": 44,
   "id": "a1595136",
   "metadata": {
    "hidden": true
   },
   "outputs": [
    {
     "data": {
      "text/plain": [
       "True"
      ]
     },
     "execution_count": 44,
     "metadata": {},
     "output_type": "execute_result"
    }
   ],
   "source": [
    "isPalindrome(0)"
   ]
  },
  {
   "cell_type": "markdown",
   "id": "0ffb269b",
   "metadata": {
    "hidden": true
   },
   "source": [
    "Success, solution had 46% improvement over other submissions but 21% faster (lower runtime) than other submissions. "
   ]
  },
  {
   "cell_type": "markdown",
   "id": "108476f7",
   "metadata": {
    "hidden": true
   },
   "source": [
    "### Solution"
   ]
  },
  {
   "cell_type": "markdown",
   "id": "81149be0",
   "metadata": {
    "hidden": true
   },
   "source": [
    "[solution from here](https://leetcode.com/problems/palindrome-number/solutions/785314/python-3-1-solution-is-89-20-faster-2nd-is-99-14-faster-explanation-added/?languageTags=python3)"
   ]
  },
  {
   "cell_type": "code",
   "execution_count": 45,
   "id": "ee129cff",
   "metadata": {
    "hidden": true
   },
   "outputs": [],
   "source": [
    "def isPalindrome(x: int):\n",
    "    if x < 0 or (x > 0 and x%10 == 0):   # if x is negative, return False. \n",
    "                                        #if x is positive and last digit is 0, that also cannot form a palindrome,\n",
    "                                        #return False.\n",
    "        return False\n",
    "\n",
    "    result = 0\n",
    "    while x > result: #while this condition is true...\n",
    "        result = result * 10 + x % 10 # update result by adding 10 and the last digit of x.\n",
    "        # 121, first iteration result = 1, x becomes 12. \n",
    "        # 12, result = 1*10 + 2 = 12, x = 1\n",
    "        print(f'result={result}')\n",
    "        x = x // 10 # double division gives integer value. Rounding down. \n",
    "        print(f'x={x}')\n",
    "    return True if (x == result or x == result // 10) else False # this logic follows such that it proves the number is a palindrome"
   ]
  },
  {
   "cell_type": "code",
   "execution_count": 46,
   "id": "f7ee4a50",
   "metadata": {
    "hidden": true
   },
   "outputs": [
    {
     "name": "stdout",
     "output_type": "stream",
     "text": [
      "result=1\n",
      "x=12\n",
      "result=12\n",
      "x=1\n"
     ]
    },
    {
     "data": {
      "text/plain": [
       "True"
      ]
     },
     "execution_count": 46,
     "metadata": {},
     "output_type": "execute_result"
    }
   ],
   "source": [
    "isPalindrome(121)"
   ]
  },
  {
   "cell_type": "code",
   "execution_count": 47,
   "id": "38ecbb26",
   "metadata": {
    "hidden": true
   },
   "outputs": [
    {
     "name": "stdout",
     "output_type": "stream",
     "text": [
      "155 ns ± 6.73 ns per loop (mean ± std. dev. of 7 runs, 10000000 loops each)\n"
     ]
    }
   ],
   "source": [
    "%%timeit\n",
    "isPalindrome(0)"
   ]
  },
  {
   "cell_type": "markdown",
   "id": "5688ce27",
   "metadata": {
    "heading_collapsed": true
   },
   "source": [
    "# Problem 13: Roman to Integer"
   ]
  },
  {
   "cell_type": "markdown",
   "id": "e1b7c2c2",
   "metadata": {
    "hidden": true
   },
   "source": [
    "[Problem is here](https://leetcode.com/problems/roman-to-integer/)"
   ]
  },
  {
   "cell_type": "markdown",
   "id": "ebe21448",
   "metadata": {
    "hidden": true
   },
   "source": [
    "I can be placed before V (5) and X (10) to make 4 and 9. \n",
    "\n",
    "X can be placed before L (50) and C (100) to make 40 and 90. \n",
    "\n",
    "C can be placed before D (500) and M (1000) to make 400 and 900."
   ]
  },
  {
   "cell_type": "code",
   "execution_count": 48,
   "id": "2c30c96a",
   "metadata": {
    "hidden": true
   },
   "outputs": [],
   "source": [
    "test_string = 'XLIV'"
   ]
  },
  {
   "cell_type": "code",
   "execution_count": 49,
   "id": "1992e402",
   "metadata": {
    "hidden": true
   },
   "outputs": [
    {
     "data": {
      "text/plain": [
       "'IV'"
      ]
     },
     "execution_count": 49,
     "metadata": {},
     "output_type": "execute_result"
    }
   ],
   "source": [
    "new_test_string = test_string.split('XL',1)[1]\n",
    "new_test_string"
   ]
  },
  {
   "cell_type": "code",
   "execution_count": 50,
   "id": "3fc350d3",
   "metadata": {
    "hidden": true
   },
   "outputs": [],
   "source": [
    "my_dict2 = {'I':1, 'V':5, 'X':10, 'L':50, 'C':100, 'D':500, 'M':1000,\n",
    "            'IV': 4, 'IX':9, 'XL':40, 'XC':90, 'CD':400, 'CM':900}"
   ]
  },
  {
   "cell_type": "code",
   "execution_count": 51,
   "id": "d24e7f57",
   "metadata": {
    "hidden": true
   },
   "outputs": [
    {
     "data": {
      "text/plain": [
       "444"
      ]
     },
     "execution_count": 51,
     "metadata": {},
     "output_type": "execute_result"
    }
   ],
   "source": [
    "my_string = 'CDXLIV'\n",
    "total = 0\n",
    "if 'IV' in my_string:\n",
    "    total = total + my_dict2['IV']\n",
    "if 'IX' in my_string:\n",
    "    total = total + my_dict2['IX']\n",
    "if 'XL' in my_string:\n",
    "    total = total + my_dict2['XL']\n",
    "if 'XC' in my_string:\n",
    "    total = total + my_dict2['XC']\n",
    "if 'CD' in my_string:\n",
    "    total = total + my_dict2['CD']\n",
    "if 'CM' in my_string:\n",
    "    total = total + my_dict2['CM']\n",
    "    \n",
    "total"
   ]
  },
  {
   "cell_type": "code",
   "execution_count": 52,
   "id": "4a68f60c",
   "metadata": {
    "hidden": true
   },
   "outputs": [],
   "source": [
    "my_string = 'MCMXCIV'\n",
    "total = 0\n",
    "\n",
    "if 'I'  in my_string:\n",
    "    total = total + my_dict2['IV']"
   ]
  },
  {
   "cell_type": "code",
   "execution_count": 53,
   "id": "15a240d9",
   "metadata": {
    "hidden": true
   },
   "outputs": [
    {
     "data": {
      "text/plain": [
       "2110"
      ]
     },
     "execution_count": 53,
     "metadata": {},
     "output_type": "execute_result"
    }
   ],
   "source": [
    "my_string = 'MCMXCIV'\n",
    "total = 0\n",
    "if 'IV' in my_string:\n",
    "    total = total + my_dict2['IV']\n",
    "if 'IX' in my_string:\n",
    "    total = total + my_dict2['IX']\n",
    "if 'XL' in my_string:\n",
    "    total = total + my_dict2['XL']\n",
    "if 'XC' in my_string:\n",
    "    total = total + my_dict2['XC']\n",
    "if 'CD' in my_string:\n",
    "    total = total + my_dict2['CD']\n",
    "if 'CM' in my_string:\n",
    "    total = total + my_dict2['CM']\n",
    "\n",
    "if 'I' in my_string:\n",
    "    total = total + my_dict2['I']\n",
    "if 'V' in my_string:\n",
    "    total = total + my_dict2['V']\n",
    "if 'X' in my_string:\n",
    "    total = total + my_dict2['X']\n",
    "if 'L' in my_string:\n",
    "    total = total + my_dict2['L']\n",
    "if 'C' in my_string:\n",
    "    total = total + my_dict2['C']\n",
    "if 'D' in my_string:\n",
    "    total = total + my_dict2['D']\n",
    "if 'M' in my_string:\n",
    "    total = total + my_dict2['M']\n",
    "    \n",
    "total"
   ]
  },
  {
   "cell_type": "markdown",
   "id": "36cee82e",
   "metadata": {
    "hidden": true
   },
   "source": [
    "## Solution "
   ]
  },
  {
   "cell_type": "markdown",
   "id": "ca1bc357",
   "metadata": {
    "hidden": true
   },
   "source": [
    "[From here](https://leetcode.com/problems/roman-to-integer/solutions/2428756/python-easily-understood-faster-than-98-less-than-76-o-n/?languageTags=python3), utilises the lambda function!!"
   ]
  },
  {
   "cell_type": "code",
   "execution_count": 54,
   "id": "89abc63c",
   "metadata": {
    "hidden": true
   },
   "outputs": [],
   "source": [
    "def romanToInt(s: str):\n",
    "    roman_to_integer = {\n",
    "        'I': 1,\n",
    "        'V': 5,\n",
    "        'X': 10,\n",
    "        'L': 50,\n",
    "        'C': 100,\n",
    "        'D': 500,\n",
    "        'M': 1000,\n",
    "    }\n",
    "    s = s.replace(\"IV\", \"IIII\").replace(\"IX\", \"VIIII\").replace(\"XL\", \"XXXX\").replace(\"XC\", \"LXXXX\").replace(\"CD\", \"CCCC\").replace(\"CM\", \"DCCCC\")\n",
    "    return sum(map(lambda x: roman_to_integer[x], s))"
   ]
  },
  {
   "cell_type": "code",
   "execution_count": 55,
   "id": "f9135e12",
   "metadata": {
    "hidden": true
   },
   "outputs": [
    {
     "data": {
      "text/plain": [
       "1994"
      ]
     },
     "execution_count": 55,
     "metadata": {},
     "output_type": "execute_result"
    }
   ],
   "source": [
    "romanToInt('MCMXCIV')"
   ]
  },
  {
   "cell_type": "markdown",
   "id": "348a2575",
   "metadata": {},
   "source": [
    "# Problem 14: Longest Common Prefix"
   ]
  },
  {
   "cell_type": "markdown",
   "id": "e8a7310c",
   "metadata": {},
   "source": [
    "with an input list of strings, we want to find a single or combination of common strings among the lists. \n",
    "\n",
    "This will involve finding a letter that appears in all strings, then checking whether the next letter appears in the next string. "
   ]
  },
  {
   "cell_type": "markdown",
   "id": "316d2f14",
   "metadata": {},
   "source": [
    "Find a letter that appears in all strings:"
   ]
  },
  {
   "cell_type": "code",
   "execution_count": 2,
   "id": "5d861d44",
   "metadata": {},
   "outputs": [],
   "source": [
    "strs = [\"flower\",\"flow\",\"flight\"]"
   ]
  },
  {
   "cell_type": "code",
   "execution_count": 57,
   "id": "d9dea5ef",
   "metadata": {},
   "outputs": [
    {
     "data": {
      "text/plain": [
       "True"
      ]
     },
     "execution_count": 57,
     "metadata": {},
     "output_type": "execute_result"
    }
   ],
   "source": [
    "'f' in strs[0]"
   ]
  },
  {
   "cell_type": "code",
   "execution_count": 64,
   "id": "cebeecd3",
   "metadata": {},
   "outputs": [
    {
     "name": "stdout",
     "output_type": "stream",
     "text": [
      "the letter f is common\n",
      "the letter l is common\n"
     ]
    },
    {
     "data": {
      "text/plain": [
       "'fl'"
      ]
     },
     "execution_count": 64,
     "metadata": {},
     "output_type": "execute_result"
    }
   ],
   "source": [
    "my_list = []\n",
    "\n",
    "for letter in list(strs[0]):\n",
    "#     print(str(letter))\n",
    "    if letter in strs[1] and letter in strs[2]:\n",
    "        print(f'the letter {letter} is common')\n",
    "        my_list.append(letter)\n",
    "        \n",
    "\"\".join(my_list)"
   ]
  },
  {
   "cell_type": "code",
   "execution_count": null,
   "id": "16bcb99f",
   "metadata": {},
   "outputs": [],
   "source": [
    "strs = [\"dog\",\"racecar\",\"car\"]"
   ]
  },
  {
   "cell_type": "code",
   "execution_count": 74,
   "id": "0f3e4462",
   "metadata": {},
   "outputs": [
    {
     "name": "stdout",
     "output_type": "stream",
     "text": [
      "flower\n",
      "flow\n",
      "flight\n"
     ]
    }
   ],
   "source": [
    "for word in strs:\n",
    "    print(word)"
   ]
  },
  {
   "cell_type": "markdown",
   "id": "b5749381",
   "metadata": {},
   "source": [
    "grab the first letter of the string list -> check if this letter appears in all the words in the string list -> if this letter does, append it to a list -> move on to the next letter -> if a letter does not appear, finish the loop and display the letters that were previous to the letter that did not appear. "
   ]
  },
  {
   "cell_type": "code",
   "execution_count": 91,
   "id": "33494cfb",
   "metadata": {},
   "outputs": [
    {
     "data": {
      "text/plain": [
       "['flow', 'flight']"
      ]
     },
     "execution_count": 91,
     "metadata": {},
     "output_type": "execute_result"
    }
   ],
   "source": [
    "strs[1:]"
   ]
  },
  {
   "cell_type": "code",
   "execution_count": 5,
   "id": "ab35c6e6",
   "metadata": {},
   "outputs": [
    {
     "data": {
      "text/plain": [
       "'lf'"
      ]
     },
     "execution_count": 5,
     "metadata": {},
     "output_type": "execute_result"
    }
   ],
   "source": [
    "my_list = []\n",
    "\n",
    "for letter in list(strs[0]):\n",
    "    for word in strs[1:]:\n",
    "        if letter in word:\n",
    "            my_list.append(letter)\n",
    "\n",
    "my_set = set([x for x in my_list if my_list.count(x) > 1])\n",
    "# my_list = list(my_set)\n",
    "# my_list\n",
    "# \"\".join(my_list)\n",
    "\"\".join(my_set)"
   ]
  },
  {
   "cell_type": "markdown",
   "id": "5decbc78",
   "metadata": {},
   "source": [
    "Adding another common prefix to check if i can simply reverse the order of the set. Previous cell shows when converting `my_list` into a set and back again, it looks like it reverses the order."
   ]
  },
  {
   "cell_type": "code",
   "execution_count": 11,
   "id": "9dfad492",
   "metadata": {},
   "outputs": [],
   "source": [
    "strs.append('flown')"
   ]
  },
  {
   "cell_type": "code",
   "execution_count": 13,
   "id": "ec32bee2",
   "metadata": {},
   "outputs": [
    {
     "data": {
      "text/plain": [
       "'lfwo'"
      ]
     },
     "execution_count": 13,
     "metadata": {},
     "output_type": "execute_result"
    }
   ],
   "source": [
    "my_list = []\n",
    "\n",
    "for letter in list(strs[0]):\n",
    "    for word in strs[1:]:\n",
    "        if letter in word:\n",
    "            my_list.append(letter)\n",
    "\n",
    "my_set = set([x for x in my_list if my_list.count(x) > 1])\n",
    "# my_list = list(my_set)\n",
    "# my_list\n",
    "# \"\".join(my_list)\n",
    "\"\".join(my_set)"
   ]
  },
  {
   "cell_type": "markdown",
   "id": "bcb47caa",
   "metadata": {},
   "source": [
    "The arrangement in the set is not ordered, so cannot simply reverse it. "
   ]
  },
  {
   "cell_type": "markdown",
   "id": "3047b17b",
   "metadata": {},
   "source": [
    "## Solution"
   ]
  },
  {
   "cell_type": "markdown",
   "id": "05efbf43",
   "metadata": {},
   "source": [
    "My attempt went through each letter of the first string in the string list to see if it appeared in the other strings. It would then only count the letters that appeared more than once."
   ]
  },
  {
   "cell_type": "markdown",
   "id": "49b5b06a",
   "metadata": {},
   "source": [
    "[Solution from here](https://leetcode.com/problems/longest-common-prefix/solutions/3273176/python3-c-java-19-ms-beats-99-91/?languageTags=python3)"
   ]
  },
  {
   "cell_type": "code",
   "execution_count": 16,
   "id": "a6bb7cc9",
   "metadata": {},
   "outputs": [],
   "source": [
    "def longestCommonPrefix(v):\n",
    "    \n",
    "    # empty string to contain the answer\n",
    "    ans=\"\"  \n",
    "    \n",
    "    # Alphabetically sorting the strings in the given list. \n",
    "    v=sorted(v)\n",
    "    \n",
    "    # Storing the first string from the list.\n",
    "    first=v[0]\n",
    "    \n",
    "    # Storing the last string from the list. \n",
    "    last=v[-1]\n",
    "    \n",
    "    # Starting a loop the length of the smaller word.\n",
    "    for i in range(min(len(first),len(last))):\n",
    "        \n",
    "        # Check if letters of the first and last word in the string list are equal. \n",
    "        # If none of them are equal (i.e. the first letters of the string), return nothing.\n",
    "        # Returning nothing means there is no common prefix. \n",
    "        if(first[i]!=last[i]):\n",
    "            \n",
    "            return ans\n",
    "        \n",
    "        # If the i-th letter does match, add it to the answer. \n",
    "        # Once the i-th letter no longer matches, the answer will be displayed via the if statement. \n",
    "        ans+=first[i]\n",
    "        \n",
    "    # If all prefixes are the same (unlikely), the answer will be displayed here. \n",
    "    return ans "
   ]
  },
  {
   "cell_type": "code",
   "execution_count": 18,
   "id": "6aadd71b",
   "metadata": {},
   "outputs": [
    {
     "data": {
      "text/plain": [
       "['flower', 'flow', 'flight', 'flown']"
      ]
     },
     "execution_count": 18,
     "metadata": {},
     "output_type": "execute_result"
    }
   ],
   "source": [
    "strs"
   ]
  },
  {
   "cell_type": "code",
   "execution_count": 19,
   "id": "587558a5",
   "metadata": {},
   "outputs": [
    {
     "data": {
      "text/plain": [
       "['flight', 'flow', 'flower', 'flown']"
      ]
     },
     "execution_count": 19,
     "metadata": {},
     "output_type": "execute_result"
    }
   ],
   "source": [
    "sorted(strs)"
   ]
  },
  {
   "cell_type": "code",
   "execution_count": 20,
   "id": "c62c03fa",
   "metadata": {},
   "outputs": [
    {
     "data": {
      "text/plain": [
       "'fl'"
      ]
     },
     "execution_count": 20,
     "metadata": {},
     "output_type": "execute_result"
    }
   ],
   "source": [
    "longestCommonPrefix(strs)"
   ]
  },
  {
   "cell_type": "code",
   "execution_count": 23,
   "id": "6910795d",
   "metadata": {},
   "outputs": [
    {
     "data": {
      "text/plain": [
       "['flower', 'flow', 'flown']"
      ]
     },
     "execution_count": 23,
     "metadata": {},
     "output_type": "execute_result"
    }
   ],
   "source": [
    "strs.pop(2)\n",
    "strs"
   ]
  },
  {
   "cell_type": "code",
   "execution_count": 25,
   "id": "db855d2f",
   "metadata": {},
   "outputs": [
    {
     "data": {
      "text/plain": [
       "'flow'"
      ]
     },
     "execution_count": 25,
     "metadata": {},
     "output_type": "execute_result"
    }
   ],
   "source": [
    "longestCommonPrefix(strs)"
   ]
  },
  {
   "cell_type": "markdown",
   "id": "510373e2",
   "metadata": {},
   "source": [
    "## Improved solution"
   ]
  },
  {
   "cell_type": "code",
   "execution_count": 30,
   "id": "5f758172",
   "metadata": {},
   "outputs": [],
   "source": [
    "def longestCommonPrefix(strs):\n",
    "    # comparing each character of the first string against all other string\n",
    "    # Time complexity: O(n)\n",
    "    # Space complexity: O(1)\n",
    "\n",
    "    # Starting a loop the length of the first string.\n",
    "    for i in range(len(strs[0])):\n",
    "        \n",
    "        # Starting a loop the length of the list, excluding the first word. \n",
    "        for j in range(1, len(strs)):\n",
    "            \n",
    "            print(f'i is {i} and j is {j}')\n",
    "            \n",
    "            # First condition doesn't work until it gets to the length of the entire first string. \n",
    "            # Once it does, this would essentially show that the first string has same length as all the other strings.\n",
    "            # The return will be all the letters of the first string. \n",
    "            # Second condition checks for when the letters of the first string are not equal to the other strings. \n",
    "            if i == len(strs[j]) or strs[0][i] != strs[j][i]:\n",
    "                return strs[0][:i]\n",
    "            \n",
    "    # if all letters are equal then just return the first word in the list as that was used for reference in the comparisons.\n",
    "    return strs[0]"
   ]
  },
  {
   "cell_type": "code",
   "execution_count": 32,
   "id": "c15c63bc",
   "metadata": {},
   "outputs": [
    {
     "data": {
      "text/plain": [
       "4"
      ]
     },
     "execution_count": 32,
     "metadata": {},
     "output_type": "execute_result"
    }
   ],
   "source": [
    "len(strs[1])"
   ]
  },
  {
   "cell_type": "code",
   "execution_count": 33,
   "id": "4a65f0b2",
   "metadata": {},
   "outputs": [
    {
     "data": {
      "text/plain": [
       "'f'"
      ]
     },
     "execution_count": 33,
     "metadata": {},
     "output_type": "execute_result"
    }
   ],
   "source": [
    "strs[0][0]"
   ]
  },
  {
   "cell_type": "code",
   "execution_count": 31,
   "id": "9877748f",
   "metadata": {},
   "outputs": [
    {
     "name": "stdout",
     "output_type": "stream",
     "text": [
      "i is 0 and j is 1\n",
      "i is 0 and j is 2\n",
      "i is 1 and j is 1\n",
      "i is 1 and j is 2\n",
      "i is 2 and j is 1\n",
      "i is 2 and j is 2\n",
      "i is 3 and j is 1\n",
      "i is 3 and j is 2\n",
      "i is 4 and j is 1\n",
      "first return finish\n"
     ]
    },
    {
     "data": {
      "text/plain": [
       "'flow'"
      ]
     },
     "execution_count": 31,
     "metadata": {},
     "output_type": "execute_result"
    }
   ],
   "source": [
    "longestCommonPrefix(strs)"
   ]
  }
 ],
 "metadata": {
  "kernelspec": {
   "display_name": "Python 3 (ipykernel)",
   "language": "python",
   "name": "python3"
  },
  "language_info": {
   "codemirror_mode": {
    "name": "ipython",
    "version": 3
   },
   "file_extension": ".py",
   "mimetype": "text/x-python",
   "name": "python",
   "nbconvert_exporter": "python",
   "pygments_lexer": "ipython3",
   "version": "3.8.3"
  },
  "toc": {
   "base_numbering": 1,
   "nav_menu": {},
   "number_sections": true,
   "sideBar": true,
   "skip_h1_title": false,
   "title_cell": "Table of Contents",
   "title_sidebar": "Contents",
   "toc_cell": false,
   "toc_position": {},
   "toc_section_display": true,
   "toc_window_display": false
  },
  "varInspector": {
   "cols": {
    "lenName": 16,
    "lenType": 16,
    "lenVar": 40
   },
   "kernels_config": {
    "python": {
     "delete_cmd_postfix": "",
     "delete_cmd_prefix": "del ",
     "library": "var_list.py",
     "varRefreshCmd": "print(var_dic_list())"
    },
    "r": {
     "delete_cmd_postfix": ") ",
     "delete_cmd_prefix": "rm(",
     "library": "var_list.r",
     "varRefreshCmd": "cat(var_dic_list()) "
    }
   },
   "types_to_exclude": [
    "module",
    "function",
    "builtin_function_or_method",
    "instance",
    "_Feature"
   ],
   "window_display": false
  }
 },
 "nbformat": 4,
 "nbformat_minor": 5
}
