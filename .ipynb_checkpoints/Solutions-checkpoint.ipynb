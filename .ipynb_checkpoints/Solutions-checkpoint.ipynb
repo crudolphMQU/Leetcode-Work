{
 "cells": [
  {
   "cell_type": "markdown",
   "id": "ed5bf314",
   "metadata": {},
   "source": [
    "# Two sum"
   ]
  },
  {
   "cell_type": "markdown",
   "id": "111b31fa",
   "metadata": {},
   "source": [
    "## Solution explanation"
   ]
  },
  {
   "cell_type": "raw",
   "id": "a6bbf032",
   "metadata": {},
   "source": [
    "def twoSum(self, nums: List[int], target: int) -> List[int]: "
   ]
  },
  {
   "cell_type": "code",
   "execution_count": 14,
   "id": "166a1552",
   "metadata": {},
   "outputs": [],
   "source": [
    "def twoSum(nums, target: int):\n",
    "    seen = {} # dictionary\n",
    "\n",
    "    for i in range(len(nums)): # definition of twoSum states nums is a list of ints. So we're interating through \n",
    "        # all the ints. \n",
    "        print(i)\n",
    "        diff = target - nums[i] # the difference between the target and each of the ints in the nums list. \n",
    "        if diff in seen: \n",
    "            return [seen[diff], i] \n",
    "        else:\n",
    "            seen[nums[i]] = i # sets a key as the num to have the value of it's index in the array. "
   ]
  },
  {
   "cell_type": "code",
   "execution_count": 15,
   "id": "7e3d8931",
   "metadata": {},
   "outputs": [],
   "source": [
    "nums = [2,7,11,15]\n",
    "target = 9"
   ]
  },
  {
   "cell_type": "code",
   "execution_count": 22,
   "id": "8377be15",
   "metadata": {},
   "outputs": [
    {
     "name": "stdout",
     "output_type": "stream",
     "text": [
      "0\n",
      "1\n"
     ]
    },
    {
     "data": {
      "text/plain": [
       "[0, 1]"
      ]
     },
     "execution_count": 22,
     "metadata": {},
     "output_type": "execute_result"
    }
   ],
   "source": [
    "twoSum(nums, target)"
   ]
  },
  {
   "cell_type": "code",
   "execution_count": 31,
   "id": "81eb0e12",
   "metadata": {},
   "outputs": [],
   "source": [
    "test = {}"
   ]
  },
  {
   "cell_type": "code",
   "execution_count": 32,
   "id": "67747376",
   "metadata": {},
   "outputs": [
    {
     "data": {
      "text/plain": [
       "7"
      ]
     },
     "execution_count": 32,
     "metadata": {},
     "output_type": "execute_result"
    }
   ],
   "source": [
    "target - 2"
   ]
  },
  {
   "cell_type": "code",
   "execution_count": 33,
   "id": "d2e4caeb",
   "metadata": {},
   "outputs": [],
   "source": [
    "test[2] = 0"
   ]
  },
  {
   "cell_type": "code",
   "execution_count": 34,
   "id": "e1376451",
   "metadata": {},
   "outputs": [
    {
     "data": {
      "text/plain": [
       "{2: 0}"
      ]
     },
     "execution_count": 34,
     "metadata": {},
     "output_type": "execute_result"
    }
   ],
   "source": [
    "test"
   ]
  },
  {
   "cell_type": "code",
   "execution_count": 35,
   "id": "a581fc0c",
   "metadata": {},
   "outputs": [
    {
     "data": {
      "text/plain": [
       "2"
      ]
     },
     "execution_count": 35,
     "metadata": {},
     "output_type": "execute_result"
    }
   ],
   "source": [
    "target - 7"
   ]
  },
  {
   "cell_type": "code",
   "execution_count": 36,
   "id": "f364f6e9",
   "metadata": {},
   "outputs": [
    {
     "data": {
      "text/plain": [
       "True"
      ]
     },
     "execution_count": 36,
     "metadata": {},
     "output_type": "execute_result"
    }
   ],
   "source": [
    "2 in test"
   ]
  },
  {
   "cell_type": "code",
   "execution_count": 38,
   "id": "e6d0df70",
   "metadata": {},
   "outputs": [
    {
     "name": "stdout",
     "output_type": "stream",
     "text": [
      "0\n",
      "1\n"
     ]
    }
   ],
   "source": [
    "print(test[2])\n",
    "print(1)"
   ]
  },
  {
   "cell_type": "markdown",
   "id": "9472919b",
   "metadata": {},
   "source": [
    "## My attempt"
   ]
  },
  {
   "cell_type": "code",
   "execution_count": 24,
   "id": "a8147cbe",
   "metadata": {},
   "outputs": [
    {
     "ename": "SyntaxError",
     "evalue": "invalid syntax (Temp/ipykernel_15776/370268633.py, line 5)",
     "output_type": "error",
     "traceback": [
      "\u001b[1;36m  File \u001b[1;32m\"C:\\Users\\Rudol\\AppData\\Local\\Temp/ipykernel_15776/370268633.py\"\u001b[1;36m, line \u001b[1;32m5\u001b[0m\n\u001b[1;33m    a        return i, i2\u001b[0m\n\u001b[1;37m             ^\u001b[0m\n\u001b[1;31mSyntaxError\u001b[0m\u001b[1;31m:\u001b[0m invalid syntax\n"
     ]
    }
   ],
   "source": [
    "def twoSum(nums, target): \n",
    "    for i, val in enumerate(nums):\n",
    "        if nums + val == [target]*len(nums) or num - val == [target]*len(nums):\n",
    "            i2 = np.where(target, nums)\n",
    "            return i, i2\n",
    "        else: \n",
    "            print(f'value \"{val}\" does not meet the target')"
   ]
  }
 ],
 "metadata": {
  "kernelspec": {
   "display_name": "Python 3 (ipykernel)",
   "language": "python",
   "name": "python3"
  },
  "language_info": {
   "codemirror_mode": {
    "name": "ipython",
    "version": 3
   },
   "file_extension": ".py",
   "mimetype": "text/x-python",
   "name": "python",
   "nbconvert_exporter": "python",
   "pygments_lexer": "ipython3",
   "version": "3.8.3"
  },
  "toc": {
   "base_numbering": 1,
   "nav_menu": {},
   "number_sections": true,
   "sideBar": true,
   "skip_h1_title": false,
   "title_cell": "Table of Contents",
   "title_sidebar": "Contents",
   "toc_cell": false,
   "toc_position": {},
   "toc_section_display": true,
   "toc_window_display": false
  },
  "varInspector": {
   "cols": {
    "lenName": 16,
    "lenType": 16,
    "lenVar": 40
   },
   "kernels_config": {
    "python": {
     "delete_cmd_postfix": "",
     "delete_cmd_prefix": "del ",
     "library": "var_list.py",
     "varRefreshCmd": "print(var_dic_list())"
    },
    "r": {
     "delete_cmd_postfix": ") ",
     "delete_cmd_prefix": "rm(",
     "library": "var_list.r",
     "varRefreshCmd": "cat(var_dic_list()) "
    }
   },
   "types_to_exclude": [
    "module",
    "function",
    "builtin_function_or_method",
    "instance",
    "_Feature"
   ],
   "window_display": false
  }
 },
 "nbformat": 4,
 "nbformat_minor": 5
}
